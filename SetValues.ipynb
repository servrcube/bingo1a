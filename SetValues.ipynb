{
 "cells": [
  {
   "cell_type": "code",
   "execution_count": 1,
   "metadata": {},
   "outputs": [],
   "source": [
    "import requests"
   ]
  },
  {
   "cell_type": "code",
   "execution_count": 2,
   "metadata": {},
   "outputs": [
    {
     "name": "stdout",
     "output_type": "stream",
     "text": [
      "{'Herr Bachmann': ['\"actually you know\"', '\"Uhmm...\" 50 times in under 45min', 'Askting Tahha to pay attention', 'Getting very loud all of a sudden', 'Trails off for over 30s', 'Trails off for over 2min', 'Trails off for over 5min', 'Trails off for over 7min', 'Mentions the french revolution outside of History', '\"care, not worry\"', '\"Wer nicht denken will soll raus\"', 'Leaves the room without a word', 'Repeats something twice', 'Repeats something thrice', 'Repeats something four times'], 'Stefanovic': ['\"Ich verlange nicht viel\"', '\"Weniger zocken, mehr lesen!\"', 'Klass zemmeschisse', '\"Meine Kinder können das\"', '\"Das ist nicht gymnasium Stoff\"']}\n"
     ]
    }
   ],
   "source": [
    "data = {\n",
    "    \"Herr Bachmann\":[\n",
    "        '\"actually you know\"',\n",
    "        '\"Uhmm...\" 50 times in under 45min',\n",
    "        'Askting Tahha to pay attention',\n",
    "        'Getting very loud all of a sudden',\n",
    "        'Trails off for over 30s',\n",
    "        'Trails off for over 2min',\n",
    "        'Trails off for over 5min',\n",
    "        'Trails off for over 7min',\n",
    "        'Mentions the french revolution outside of History',\n",
    "        '\"care, not worry\"',\n",
    "        '\"Wer nicht denken will soll raus\"',\n",
    "        'Leaves the room without a word',\n",
    "        'Repeats something twice',\n",
    "        'Repeats something thrice',\n",
    "        'Repeats something four times',\n",
    "    ],\n",
    "    \"Stefanovic\":[\n",
    "        '\"Ich verlange nicht viel\"',\n",
    "        '\"Weniger zocken, mehr lesen!\"',\n",
    "        'Klass zemmeschisse',\n",
    "        '\"Meine Kinder können das\"',\n",
    "        '\"Das ist nicht gymnasium Stoff\"',\n",
    "    ]\n",
    "    }\n",
    "\n",
    "url = \"https://bingo-53341-default-rtdb.europe-west1.firebasedatabase.app/\"\n",
    "fileResponses = \"responses.json\"\n",
    "result = requests.put(url+fileResponses, json=data)\n",
    "print(result.json())"
   ]
  },
  {
   "cell_type": "code",
   "execution_count": 37,
   "metadata": {},
   "outputs": [],
   "source": [
    "def parseChars(string):\n",
    "    return string.replace(\"_\", \"__\").replace(\".\", \"_P\").replace(\"$\", \"_D\").replace(\"#\", \"_H\").replace(\"[\", \"_O\").replace(\"]\", \"_C\").replace(\"/\", \"_S\")"
   ]
  },
  {
   "cell_type": "code",
   "execution_count": 6,
   "metadata": {},
   "outputs": [],
   "source": [
    "import itertools"
   ]
  },
  {
   "cell_type": "code",
   "execution_count": 27,
   "metadata": {},
   "outputs": [
    {
     "data": {
      "text/plain": [
       "{'\"actually you know\"': False,\n",
       " '\"Uhmm_P_P_P\" 50 times in under 45min': False,\n",
       " 'Askting Tahha to pay attention': False,\n",
       " 'Getting very loud all of a sudden': False,\n",
       " 'Trails off for over 30s': False,\n",
       " 'Trails off for over 2min': False,\n",
       " 'Trails off for over 5min': False,\n",
       " 'Trails off for over 7min': False,\n",
       " 'Mentions the french revolution outside of History': False,\n",
       " '\"care, not worry\"': False,\n",
       " '\"Wer nicht denken will soll raus\"': False,\n",
       " 'Leaves the room without a word': False,\n",
       " 'Repeats something twice': False,\n",
       " 'Repeats something thrice': False,\n",
       " 'Repeats something four times': False,\n",
       " '\"Ich verlange nicht viel\"': False,\n",
       " '\"Weniger zocken, mehr lesen!\"': False,\n",
       " 'Klass zemmeschisse': False,\n",
       " '\"Meine Kinder können das\"': False,\n",
       " '\"Das ist nicht gymnasium Stoff\"': False}"
      ]
     },
     "execution_count": 27,
     "metadata": {},
     "output_type": "execute_result"
    }
   ],
   "source": [
    "flatList = [parseChars(a) for a in list(itertools.chain(*data.values()))]\n",
    "\n",
    "checks = dict(zip(flatList,[False]*len(flatList)))\n",
    "checks"
   ]
  },
  {
   "cell_type": "code",
   "execution_count": 30,
   "metadata": {},
   "outputs": [
    {
     "name": "stdout",
     "output_type": "stream",
     "text": [
      "{'\"Das ist nicht gymnasium Stoff\"': False, '\"Ich verlange nicht viel\"': False, '\"Meine Kinder können das\"': False, '\"Uhmm_P_P_P\" 50 times in under 45min': False, '\"Weniger zocken, mehr lesen!\"': False, '\"Wer nicht denken will soll raus\"': False, '\"actually you know\"': False, '\"care, not worry\"': False, 'Askting Tahha to pay attention': False, 'Getting very loud all of a sudden': False, 'Klass zemmeschisse': False, 'Leaves the room without a word': False, 'Mentions the french revolution outside of History': False, 'Repeats something four times': False, 'Repeats something thrice': False, 'Repeats something twice': False, 'Trails off for over 2min': False, 'Trails off for over 30s': False, 'Trails off for over 5min': False, 'Trails off for over 7min': False}\n"
     ]
    }
   ],
   "source": [
    "fileCheck = \"check.json\"\n",
    "\n",
    "result = requests.put(url+fileCheck, json=checks)\n",
    "print(result.json())"
   ]
  },
  {
   "cell_type": "code",
   "execution_count": 33,
   "metadata": {},
   "outputs": [
    {
     "name": "stdout",
     "output_type": "stream",
     "text": [
      "{'GameAlreadyStarted': False, 'GameFinished': False, 'StartingNewGame': False, 'WaitingForNewGameToStart': False}\n"
     ]
    }
   ],
   "source": [
    "fileStatus = \"status.json\"\n",
    "\n",
    "status = {\n",
    "    \"GameAlreadyStarted\":False,\n",
    "    \"StartingNewGame\":False,\n",
    "    \"WaitingForNewGameToStart\":False,\n",
    "    \"GameFinished\":False,\n",
    "    }\n",
    "\n",
    "result = requests.put(url+fileStatus, json=status)\n",
    "print(result.json())"
   ]
  },
  {
   "cell_type": "code",
   "execution_count": 77,
   "metadata": {},
   "outputs": [
    {
     "name": "stdout",
     "output_type": "stream",
     "text": [
      "{'name': '-N4I4DfJ-WR0__taZFfd'}\n"
     ]
    }
   ],
   "source": [
    "filePlayers = \"players.json\"\n",
    "\n",
    "\n",
    "\n",
    "playersMock = {\n",
    "    \"your mom ...\": {\"points\": 0}\n",
    "}\n",
    "\n",
    "playersMock =  dict((parseChars(a),b) for a,b in playersMock.items())\n",
    "\n",
    "result = requests.post(url+filePlayers, json=playersMock)\n",
    "print(result.json())"
   ]
  }
 ],
 "metadata": {
  "interpreter": {
   "hash": "ad2bdc8ecc057115af97d19610ffacc2b4e99fae6737bb82f5d7fb13d2f2c186"
  },
  "kernelspec": {
   "display_name": "Python 3.8.12 ('base')",
   "language": "python",
   "name": "python3"
  },
  "language_info": {
   "codemirror_mode": {
    "name": "ipython",
    "version": 3
   },
   "file_extension": ".py",
   "mimetype": "text/x-python",
   "name": "python",
   "nbconvert_exporter": "python",
   "pygments_lexer": "ipython3",
   "version": "3.8.12"
  },
  "orig_nbformat": 4
 },
 "nbformat": 4,
 "nbformat_minor": 2
}
